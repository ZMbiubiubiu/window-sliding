{
 "cells": [
  {
   "cell_type": "markdown",
   "metadata": {},
   "source": [
    "滑动窗口技术展示了如何将嵌套的for循环转变为单一for循环，以此来降低事件复杂度。\n",
    "让我们引入一个例子来说明这个算法的好处。"
   ]
  },
  {
   "cell_type": "markdown",
   "metadata": {},
   "source": [
    "给定一个大小为n的数组，计算大小为k的连续子数组的元素和，\n",
    "并找出元素和最大的子数组\n",
    "\n",
    "Input  : arr = {100, 200, 300, 400}\n",
    "         k = 2\n",
    "Output : 700\n",
    "\n",
    "Input  : arr = {1, 4, 2, 10, 23, 3, 1, 0, 20}\n",
    "         k = 4 \n",
    "Output : 39\n",
    "我们得到这个最大元素和是通过这个子数组 {4, 2, 10, 23}\n",
    "\n",
    "Input  : arr = {2, 3}\n",
    "         k = 3\n",
    "Output : Invalid\n",
    "因为总共才有两个元素，所以没有大小为3的子数组。\n"
   ]
  },
  {
   "cell_type": "markdown",
   "metadata": {},
   "source": [
    "## 蛮力计算法"
   ]
  },
  {
   "cell_type": "code",
   "execution_count": 2,
   "metadata": {},
   "outputs": [
    {
     "data": {
      "text/plain": [
       "27"
      ]
     },
     "execution_count": 2,
     "metadata": {},
     "output_type": "execute_result"
    }
   ],
   "source": [
    "# python 代码\n",
    "def sub_sum(arr,k):\n",
    "    \"\"\"\n",
    "    接收一个数组arr\n",
    "    计算子数组大小为k的元素和\n",
    "    返回数值最大的元素和\n",
    "    \"\"\"\n",
    "    # max_sum 代表最后的输出值\n",
    "    max_sum = 0\n",
    "    \n",
    "    # 每一个子数组的索引都从 i 开始     \n",
    "    for i in range(len(arr)-k+1):\n",
    "        current_sum = 0\n",
    "        for j in range(k):\n",
    "            current_sum = current_sum + arr[i+j]\n",
    "        \n",
    "        # 比较大小，更新最大值\n",
    "        max_sum = max(max_sum,current_sum)\n",
    "    \n",
    "    # 返回最大值\n",
    "    return max_sum\n",
    "        \n",
    "# 进行验证\n",
    "arr = [1,2,3,4,5,6,7,8,9,10]\n",
    "\n",
    "#对上面那个数组就行验证，且注意这里的子数组大小为 3\n",
    "sub_sum(arr,3)\n",
    "# output 27\n",
    "\n"
   ]
  },
  {
   "cell_type": "code",
   "execution_count": null,
   "metadata": {},
   "outputs": [],
   "source": [
    "# c++ 代码\n",
    "#include <iostream>\n",
    "using namespace std;\n",
    "\n",
    "// 返回大小为k的各个子数组的元素和中的最大值\n",
    "int maxSum(int arr[], int n, int k)\n",
    "{\n",
    "    // 初始化结果\n",
    "    int max_sum = INT_MIN ;\n",
    " \n",
    "    // 所有的子数组都是从i开始的\n",
    "    for (int i=0; i<n-k+1; i++)\n",
    "    {\n",
    "        int current_sum = 0;\n",
    "        for (int j=0; j<k; j++)\n",
    "            current_sum = current_sum + arr[i+j];\n",
    " \n",
    "        // 比较大小，更新最大值\n",
    "        max_sum = max(current_sum , max_sum );\n",
    "    }\n",
    " \n",
    "    return max_sum;\n",
    "}\n",
    " \n",
    "// 验证代码\n",
    "int main()\n",
    "{\n",
    "    int arr[] = {1, 4, 2, 10, 2, 3, 1, 0, 20};\n",
    "    int k = 4;\n",
    "    int n = sizeof(arr)/sizeof(arr[0]);\n",
    "    cout << maxSum(arr, n, k);\n",
    "    return 0;\n",
    "}"
   ]
  },
  {
   "cell_type": "markdown",
   "metadata": {},
   "source": [
    "### 点评以上算法以及承上启下"
   ]
  },
  {
   "cell_type": "code",
   "execution_count": null,
   "metadata": {},
   "outputs": [],
   "source": [
    "很明显，以上算法的复杂度很大。\n",
    "\n",
    "如果用大O表示法，其时间复杂度为O(k*n)\n",
    "\n",
    "因为其包含两个嵌套for循环\n",
    "\n",
    "接下来，我们引入 window sliding algorithm（移动开窗算法）\n",
    "\n",
    "关于此算法一种最直观的表述就是，想象你是如何在公交上打开车窗的！\n",
    "\n",
    "没错，就是如此简单和形象。\n",
    "\n",
    "更具体一点便是，你滑动窗户的时候：\n",
    "\n",
    "不是一点点的连续移动，而是一个单位一个单位的移动。\n",
    "\n",
    "这就是移动窗口的精髓！"
   ]
  },
  {
   "cell_type": "markdown",
   "metadata": {},
   "source": [
    "## 移动开窗法"
   ]
  },
  {
   "cell_type": "code",
   "execution_count": null,
   "metadata": {},
   "outputs": [],
   "source": [
    "此算法具体为：\n",
    "\n",
    "1、用线性循环的方法计算最开始的k个元素和，并存在变量 window_sum 中。\n",
    "\n",
    "2、然后我们推着这个‘窗口‘按照一个元素的步伐逐步向前走。\n",
    "\n",
    "3、这一步最关键！为了获得当前子数组的元素和，你只需要将上一个数组的第一个元素扔掉，再加上当前子数组的最后一个元素即可。"
   ]
  },
  {
   "cell_type": "code",
   "execution_count": null,
   "metadata": {},
   "outputs": [],
   "source": [
    "# python 代码\n",
    "def sub_max(arr,k):\n",
    "    \n",
    "    # 计算最开始的 k 个元素\n",
    "    max_sum = 0\n",
    "    for i in range(k):\n",
    "        max_sum = max_sum + arr[i]\n",
    "        \n",
    "    # 计算余下的窗口的元素和\n",
    "    # 去掉上一个窗口的第一个元素\n",
    "    # 加上这个窗口的最后一个元素\n",
    "    # 以此得到当前窗口的元素和\n",
    "    \n",
    "    window_sum = max_sum\n",
    "    for i in range(k,len(arr)):\n",
    "        window_sum = window_sum + arr[i] - arr[i-k]\n",
    "        max_sum = max(max_sum, window_sum)\n",
    "        \n",
    "    return max_sum\n"
   ]
  },
  {
   "cell_type": "code",
   "execution_count": null,
   "metadata": {},
   "outputs": [],
   "source": [
    "// c++ 代码\n",
    "\n",
    "#include <iostream>\n",
    "using namespace std;\n",
    " \n",
    "// 返回大小为k的各个子数组的元素和中的最大值\n",
    "int maxSum(int arr[], int n, int k)\n",
    "{\n",
    "    // k must be greater\n",
    "    if (n < k)\n",
    "    {\n",
    "       cout << \"Invalid\";\n",
    "       return -1;\n",
    "    }\n",
    " \n",
    "    // 计算最开始的k个元素和\n",
    "    int max_sum = 0;\n",
    "    \n",
    "    for (int i=0; i<k; i++)\n",
    "       max_sum += arr[i];\n",
    " \n",
    "    // 计算余下的窗口的元素和\n",
    "    // 去掉上一个窗口的第一个元素\n",
    "    // 加上这个窗口的最后一个元素\n",
    "    // 以此得到当前窗口的元素和\n",
    "    int window_sum = max_sum;\n",
    "    for (int i=k; i<n; i++)\n",
    "    {\n",
    "       window_sum += arr[i] - arr[i-k];\n",
    "       max_sum = max(max_sum, window_sum);\n",
    "    }\n",
    " \n",
    "    return max_sum;\n",
    "}\n",
    " \n",
    "// 验证代码\n",
    "int main()\n",
    "{\n",
    "    int arr[] = {1, 4, 2, 10, 2, 3, 1, 0, 20};\n",
    "    int k = 4;\n",
    "    int n = sizeof(arr)/sizeof(arr[0]);\n",
    "    cout << maxSum(arr, n, k);\n",
    "    return 0;\n",
    "}"
   ]
  },
  {
   "cell_type": "markdown",
   "metadata": {},
   "source": [
    "## 二维移动窗口（用矩阵模拟点云）"
   ]
  },
  {
   "cell_type": "code",
   "execution_count": 1,
   "metadata": {},
   "outputs": [],
   "source": [
    "import numpy as np\n",
    "import matplotlib.pyplot as plt"
   ]
  },
  {
   "cell_type": "code",
   "execution_count": 5,
   "metadata": {},
   "outputs": [],
   "source": [
    "# 练习 numpy 掩码\n",
    "a = np.linspace(0,2*np.pi,50)\n",
    "b = np.sin(a)"
   ]
  },
  {
   "cell_type": "code",
   "execution_count": 6,
   "metadata": {},
   "outputs": [
    {
     "data": {
      "text/plain": [
       "array([ 0.00000000e+00,  1.27877162e-01,  2.53654584e-01,  3.75267005e-01,\n",
       "        4.90717552e-01,  5.98110530e-01,  6.95682551e-01,  7.81831482e-01,\n",
       "        8.55142763e-01,  9.14412623e-01,  9.58667853e-01,  9.87181783e-01,\n",
       "        9.99486216e-01,  9.95379113e-01,  9.74927912e-01,  9.38468422e-01,\n",
       "        8.86599306e-01,  8.20172255e-01,  7.40277997e-01,  6.48228395e-01,\n",
       "        5.45534901e-01,  4.33883739e-01,  3.15108218e-01,  1.91158629e-01,\n",
       "        6.40702200e-02, -6.40702200e-02, -1.91158629e-01, -3.15108218e-01,\n",
       "       -4.33883739e-01, -5.45534901e-01, -6.48228395e-01, -7.40277997e-01,\n",
       "       -8.20172255e-01, -8.86599306e-01, -9.38468422e-01, -9.74927912e-01,\n",
       "       -9.95379113e-01, -9.99486216e-01, -9.87181783e-01, -9.58667853e-01,\n",
       "       -9.14412623e-01, -8.55142763e-01, -7.81831482e-01, -6.95682551e-01,\n",
       "       -5.98110530e-01, -4.90717552e-01, -3.75267005e-01, -2.53654584e-01,\n",
       "       -1.27877162e-01, -2.44929360e-16])"
      ]
     },
     "execution_count": 6,
     "metadata": {},
     "output_type": "execute_result"
    }
   ],
   "source": [
    "b"
   ]
  },
  {
   "cell_type": "code",
   "execution_count": 7,
   "metadata": {},
   "outputs": [
    {
     "data": {
      "text/plain": [
       "array([ True,  True,  True,  True,  True,  True,  True,  True,  True,\n",
       "        True,  True,  True,  True,  True,  True,  True,  True,  True,\n",
       "        True,  True,  True,  True,  True,  True,  True, False, False,\n",
       "       False, False, False, False, False, False, False, False, False,\n",
       "       False, False, False, False, False, False, False, False, False,\n",
       "       False, False, False, False, False])"
      ]
     },
     "execution_count": 7,
     "metadata": {},
     "output_type": "execute_result"
    }
   ],
   "source": [
    "mask = b>= 0\n",
    "mask"
   ]
  },
  {
   "cell_type": "code",
   "execution_count": 8,
   "metadata": {},
   "outputs": [
    {
     "data": {
      "text/plain": [
       "[<matplotlib.lines.Line2D at 0x11c5fd278>]"
      ]
     },
     "execution_count": 8,
     "metadata": {},
     "output_type": "execute_result"
    },
    {
     "data": {
      "image/png": "[encoded data removed]",
      "text/plain": [
       "<Figure size 432x288 with 1 Axes>"
      ]
     },
     "metadata": {},
     "output_type": "display_data"
    }
   ],
   "source": [
    "plt.plot(a[mask],b[mask],'bo')"
   ]
  },
  {
   "cell_type": "code",
   "execution_count": 10,
   "metadata": {},
   "outputs": [
    {
     "name": "stdout",
     "output_type": "stream",
     "text": [
      "18.188670587673336\n",
      "7\n"
     ]
    }
   ],
   "source": [
    "# python 中用 random库生成的随机数\n",
    "import random\n",
    "# 生成一个位于 a 与 b 之间的均匀浮点数分布 \n",
    "print(random.uniform(10,20))\n",
    "# 生成一个指定范围内的整数\n",
    "print(random.randint(1,10))"
   ]
  },
  {
   "cell_type": "code",
   "execution_count": 13,
   "metadata": {},
   "outputs": [],
   "source": [
    "# python 中用 numpy 库生成的随机数\n",
    "\n",
    "# 生成 100 万个随机数\n",
    "nums = np.random.random(size = 1000000)\n",
    "# 将这100 万个随机数排列成 1000 x 1000 的矩阵\n",
    "nums.resize(1000,1000)"
   ]
  },
  {
   "cell_type": "code",
   "execution_count": 43,
   "metadata": {},
   "outputs": [],
   "source": [
    "# 创建一个队列，用来存储每个窗口筛选出来的坐标\n",
    "from collections import deque\n",
    "eminem = deque()\n",
    "\n",
    
    "def sliding_window_01(height,length,rand_matrix,queue):\n",
    "    \"\"\"\n",
    "    height:表示窗口的高度\n",
    "    length:表示窗口的长度\n",
    "    \"\"\"\n",
    "    for i in range(int(len(rand_matrix)/length)):\n",
    "        for j in range(int(len(rand_matrix)/height)):\n",
    "#             slices = [i:i+length,j:j+height]\n",
    "            window = rand_matrix[i:i+length,j:j+height]\n",
    "            minium = window.min()\n",
    "            index = np.where(window == minium)\n",
    "            queue.append(index)\n",
    " "
   ]
  },
  {
   "cell_type": "code",
   "execution_count": 44,
   "metadata": {},
   "outputs": [],
   "source": [
    "sliding_window_01(4,4,nums,eminem)\n"
   ]
  },
  {
   "cell_type": "code",
   "execution_count": 45,
   "metadata": {},
   "outputs": [
    {
     "data": {
      "text/plain": [
       "62500"
      ]
     },
     "execution_count": 45,
     "metadata": {},
     "output_type": "execute_result"
    }
   ],
   "source": [
    "len(eminem)"
   ]
  },
  {
   "cell_type": "code",
   "execution_count": 18,
   "metadata": {},
   "outputs": [
    {
     "data": {
      "text/plain": [
       "array([[ 0,  1,  2,  3],\n",
       "       [ 4,  5,  6,  7],\n",
       "       [ 8,  9, 10, 11]])"
      ]
     },
     "execution_count": 18,
     "metadata": {},
     "output_type": "execute_result"
    }
   ],
   "source": [
    "test = np.arange(12)\n",
    "test.resize(3,4)\n",
    "test\n",
    "\n",
    "m = test[0:2,2:4].min()\n",
    "\n",
    "type(np.where(test == 0))\n",
    "\n",
    "type(np.where(test == 0)[0])\n",
    "\n",
    "test[np.where(test == 0)]"
   ]
  },
  {
   "cell_type": "code",
   "execution_count": null,
   "metadata": {},
   "outputs": [],
   "source": []
  }
 ],
 "metadata": {
  "kernelspec": {
   "display_name": "Python 3",
   "language": "python",
   "name": "python3"
  },
  "language_info": {
   "codemirror_mode": {
    "name": "ipython",
    "version": 3
   },
   "file_extension": ".py",
   "mimetype": "text/x-python",
   "name": "python",
   "nbconvert_exporter": "python",
   "pygments_lexer": "ipython3",
   "version": "3.6.5"
  }
 },
 "nbformat": 4,
 "nbformat_minor": 2
}
